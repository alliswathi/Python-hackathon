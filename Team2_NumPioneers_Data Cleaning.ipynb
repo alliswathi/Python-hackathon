{
 "cells": [
  {
   "cell_type": "markdown",
   "id": "4b86d23f-99a1-4d6a-8a86-271e1cc3752e",
   "metadata": {},
   "source": [
    "# <center> <p style=\"font-family: Cambria; text-align: center; font-size: 48px;\"> I. DATA PRE-PROCESSING </p></center>"
   ]
  },
  {
   "cell_type": "code",
   "execution_count": 330,
   "id": "7ede5bfd-67f2-4a77-9654-4e67a2fa9b5b",
   "metadata": {},
   "outputs": [],
   "source": [
    "#Importing all the Necessary Libraries\n",
    "import pandas as pd\n",
    "import numpy as np\n",
    "import glob\n",
    "import os\n",
    "import warnings\n",
    "warnings.simplefilter(\"ignore\", UserWarning)\n",
    "%matplotlib inline"
   ]
  },
  {
   "cell_type": "markdown",
   "id": "d484e357-33e0-4f5d-8617-4a4148e5689b",
   "metadata": {},
   "source": [
    "## <div style=\"color:darkred; font-family:'Arial',sans-seriff;font-size:26px;\"><b>1. Merging all patients Diabietes Dataset into one file. </div> "
   ]
  },
  {
   "cell_type": "markdown",
   "id": "7e27198f-c79d-46ae-b129-3a3456a27fb4",
   "metadata": {},
   "source": [
    "<div style=\"color:black; font-size:18px; margin-bottom:0px;\">\n",
    "<h1 style=\"font-size:24px; font-weight:bold; margin:0 0 10px 0;\">Reasoning:</h1>Combined all patient files into one. <br> The code loads all CSV files, assigns a Patient_ID based on the filename, and combines them into a single consolidated dataset.<br>Mergeing allows us centralised analysis of patient data, ensure consistency across records, and simplify processing, visualisation, and reporting for the entire cohort.<br> The final merged file is saved as a CSV for future analysis.</div>\n",
    " "
   ]
  },
  {
   "cell_type": "code",
   "execution_count": 332,
   "id": "b5073640-c85e-4975-96fe-2d6da233fb3b",
   "metadata": {},
   "outputs": [
    {
     "name": "stdout",
     "output_type": "stream",
     "text": [
      "                       time     glucose  calories  heart_rate  steps  \\\n",
      "0       2018-06-13T18:40:00  332.000000   6.35950   82.322835   34.0   \n",
      "1       2018-06-13T18:45:00  326.000000   7.72800   83.740157    0.0   \n",
      "2       2018-06-13T18:50:00  330.000000   4.74950   80.525180    0.0   \n",
      "3       2018-06-13T18:55:00  324.000000   6.35950   89.129032   20.0   \n",
      "4       2018-06-13T19:00:00  306.000000   5.15200   92.495652    0.0   \n",
      "...                     ...         ...       ...         ...    ...   \n",
      "309387  2022-05-18T11:55:00  109.333333  10.79280  104.171171    0.0   \n",
      "309388  2022-05-18T12:00:00  114.000000   9.80346  103.442623    0.0   \n",
      "309389  2022-05-18T12:05:00  118.666667   5.66622   95.542857    0.0   \n",
      "309390  2022-05-18T12:10:00  123.333333   5.57628   91.381356    0.0   \n",
      "309391  2022-05-18T12:15:00  128.000000   5.57628   99.257812    0.0   \n",
      "\n",
      "        basal_rate  bolus_volume_delivered  carb_input Patient_ID  \n",
      "0         0.091667                     0.0         0.0  HUPA0001P  \n",
      "1         0.091667                     0.0         0.0  HUPA0001P  \n",
      "2         0.091667                     0.0         0.0  HUPA0001P  \n",
      "3         0.091667                     0.0         0.0  HUPA0001P  \n",
      "4         0.075000                     0.0         0.0  HUPA0001P  \n",
      "...            ...                     ...         ...        ...  \n",
      "309387    0.000000                     0.0         0.0  HUPA0028P  \n",
      "309388    0.000000                     0.0         0.0  HUPA0028P  \n",
      "309389    0.000000                     0.0         0.0  HUPA0028P  \n",
      "309390    0.000000                     0.0         0.0  HUPA0028P  \n",
      "309391    0.000000                     0.0         0.0  HUPA0028P  \n",
      "\n",
      "[309392 rows x 9 columns]\n"
     ]
    }
   ],
   "source": [
    "# Create the Path variable to store the local path\n",
    "path = \"C:/work/DataAnalysis/Python Hackathon2/DataSet/HUPA-UC Diabetes Dataset\"\n",
    "csv_files = glob.glob(os.path.join(path, \"*.csv\"))\n",
    "\n",
    "#print(csv_files)\n",
    "df_list = []\n",
    "\n",
    "#Read the csv files and append to the list\n",
    "for file in csv_files:\n",
    "    df = pd.read_csv(file,sep=\";\")\n",
    "    patient_filename = os.path.basename(file)\n",
    "    patient_id = os.path.splitext(patient_filename)[0]\n",
    "   # print(patient_id)\n",
    "    df['Patient_ID'] = patient_id\n",
    "    df_list.append(df)\n",
    "     \n",
    "#print(df_list)\n",
    "\n",
    "#Concatenate into one DataFrame\n",
    "df_merged = pd.concat(df_list,ignore_index=True)\n",
    "df_merged.to_csv(\"HUPA-UC_megerd.csv\",index=False)\n",
    "print(df_merged)"
   ]
  },
  {
   "cell_type": "markdown",
   "id": "8a4541eb-778a-4380-9d42-378aff94b23e",
   "metadata": {},
   "source": [
    "## <div style=\"color:darkred; font-family:'Arial',sans-seriff;font-size:26px;\"><b> 2. Setting Clinical Ranges & Checking Outliers.</div>"
   ]
  },
  {
   "cell_type": "markdown",
   "id": "8268f375-45f3-4d53-8657-28548cae47a7",
   "metadata": {},
   "source": [
    "<div style=\"color:black; font-size:18px; margin-bottom:0px;\">\n",
    "<h1 style=\"font-size:24px; font-weight:bold; margin:0 0 10px 0;\">Reasoning:</h1>Outliers are data points that differ significantly from the majority of observations.<br>They can skew results, distort averages, or affect machine learning models.\n",
    "<br>Identifying outliers helps in deciding whether to investigate, correct, or remove them to improve data quality and reliability of analysis.</b></p>"
   ]
  },
  {
   "cell_type": "code",
   "execution_count": 334,
   "id": "be1ad0b8-552e-464c-899e-890b7d75d3c5",
   "metadata": {},
   "outputs": [
    {
     "name": "stdout",
     "output_type": "stream",
     "text": [
      "glucose: below=0, above=0\n",
      "heart_rate: below=0, above=0\n",
      "steps: below=0, above=0\n",
      "calories: below=0, above=0\n",
      "basal_rate: below=0, above=0\n",
      "bolus_volume_delivered: below=4, above=0\n",
      "carb_input: below=0, above=0\n"
     ]
    }
   ],
   "source": [
    "df_copy = df_merged.copy()\n",
    "clip_ranges = {\n",
    "    \"glucose\": (40, 450),          # mg/dL\n",
    "    \"heart_rate\": (30, 200),       # bpm\n",
    "    \"steps\": (0, 1000),             # steps in 5 min\n",
    "    \"calories\": (0, 1000),         # kcal in 5 min\n",
    "    \"basal_rate\": (0, 20),         # units/hour\n",
    "    \"bolus_volume_delivered\": (0, 25), # units per 5 min\n",
    "    \"carb_input\": (0, 300),        # grams in 5 min\n",
    "}\n",
    "\n",
    " \n",
    "\n",
    "for col, (low, high) in clip_ranges.items():\n",
    "\n",
    "    if col in df_copy.columns:\n",
    "        below = (df_copy[col] < low).sum() if low is not None else 0\n",
    "        above = (df_copy[col] > high).sum() if high is not None else 0\n",
    "        print(f\"{col}: below={below}, above={above}\")"
   ]
  },
  {
   "cell_type": "markdown",
   "id": "72756a48-d39b-46db-be73-17ce34bec284",
   "metadata": {},
   "source": [
    "## <div style=\"color:darkred; font-family:'Arial',sans-seriff;font-size:26px;\"><b>2.1. Identify rows in the dataset where values fall outside the defined acceptable ranges.</div>"
   ]
  },
  {
   "cell_type": "markdown",
   "id": "ca1eb20c-8396-4421-a34c-2b1e06445474",
   "metadata": {},
   "source": [
    "<div style=\"color:black; font-size:18px; margin-bottom:0px;\">\n",
    "<h1 style=\"font-size:24px; font-weight:bold; margin:0 0 10px 0;\">Reasoning: </h1>Extracts the entire row for context, tags it with the column that triggered the outlier, the expected valid range, and the original row index, then combines all such rows into a single dataframe so you can easily review, trace back, and analyze all outliers across patients and variables in one place.</b></p>"
   ]
  },
  {
   "cell_type": "code",
   "execution_count": 336,
   "id": "aaf6fded-cc60-499f-82d4-d7b39f619761",
   "metadata": {},
   "outputs": [
    {
     "data": {
      "text/html": [
       "<div>\n",
       "<style scoped>\n",
       "    .dataframe tbody tr th:only-of-type {\n",
       "        vertical-align: middle;\n",
       "    }\n",
       "\n",
       "    .dataframe tbody tr th {\n",
       "        vertical-align: top;\n",
       "    }\n",
       "\n",
       "    .dataframe thead th {\n",
       "        text-align: right;\n",
       "    }\n",
       "</style>\n",
       "<table border=\"1\" class=\"dataframe\">\n",
       "  <thead>\n",
       "    <tr style=\"text-align: right;\">\n",
       "      <th></th>\n",
       "      <th>time</th>\n",
       "      <th>glucose</th>\n",
       "      <th>calories</th>\n",
       "      <th>heart_rate</th>\n",
       "      <th>steps</th>\n",
       "      <th>basal_rate</th>\n",
       "      <th>bolus_volume_delivered</th>\n",
       "      <th>carb_input</th>\n",
       "      <th>Patient_ID</th>\n",
       "      <th>outlier_column</th>\n",
       "      <th>expected_range</th>\n",
       "      <th>row_index</th>\n",
       "    </tr>\n",
       "  </thead>\n",
       "  <tbody>\n",
       "    <tr>\n",
       "      <th>0</th>\n",
       "      <td>2019-03-29T15:00:00</td>\n",
       "      <td>103.0</td>\n",
       "      <td>6.48924</td>\n",
       "      <td>84.178571</td>\n",
       "      <td>0.0</td>\n",
       "      <td>0.059</td>\n",
       "      <td>-1.0</td>\n",
       "      <td>7.0</td>\n",
       "      <td>HUPA0017P</td>\n",
       "      <td>bolus_volume_delivered</td>\n",
       "      <td>0-25</td>\n",
       "      <td>46643</td>\n",
       "    </tr>\n",
       "    <tr>\n",
       "      <th>1</th>\n",
       "      <td>2019-03-31T14:30:00</td>\n",
       "      <td>84.0</td>\n",
       "      <td>4.77150</td>\n",
       "      <td>98.220272</td>\n",
       "      <td>0.0</td>\n",
       "      <td>0.059</td>\n",
       "      <td>-1.0</td>\n",
       "      <td>4.0</td>\n",
       "      <td>HUPA0017P</td>\n",
       "      <td>bolus_volume_delivered</td>\n",
       "      <td>0-25</td>\n",
       "      <td>47213</td>\n",
       "    </tr>\n",
       "    <tr>\n",
       "      <th>2</th>\n",
       "      <td>2019-04-06T12:45:00</td>\n",
       "      <td>134.0</td>\n",
       "      <td>14.60079</td>\n",
       "      <td>100.230769</td>\n",
       "      <td>84.0</td>\n",
       "      <td>0.059</td>\n",
       "      <td>-3.0</td>\n",
       "      <td>4.0</td>\n",
       "      <td>HUPA0017P</td>\n",
       "      <td>bolus_volume_delivered</td>\n",
       "      <td>0-25</td>\n",
       "      <td>48920</td>\n",
       "    </tr>\n",
       "    <tr>\n",
       "      <th>3</th>\n",
       "      <td>2019-04-07T13:15:00</td>\n",
       "      <td>97.0</td>\n",
       "      <td>4.77150</td>\n",
       "      <td>98.323864</td>\n",
       "      <td>0.0</td>\n",
       "      <td>0.059</td>\n",
       "      <td>-1.0</td>\n",
       "      <td>2.5</td>\n",
       "      <td>HUPA0017P</td>\n",
       "      <td>bolus_volume_delivered</td>\n",
       "      <td>0-25</td>\n",
       "      <td>49214</td>\n",
       "    </tr>\n",
       "  </tbody>\n",
       "</table>\n",
       "</div>"
      ],
      "text/plain": [
       "                  time  glucose  calories  heart_rate  steps  basal_rate  \\\n",
       "0  2019-03-29T15:00:00    103.0   6.48924   84.178571    0.0       0.059   \n",
       "1  2019-03-31T14:30:00     84.0   4.77150   98.220272    0.0       0.059   \n",
       "2  2019-04-06T12:45:00    134.0  14.60079  100.230769   84.0       0.059   \n",
       "3  2019-04-07T13:15:00     97.0   4.77150   98.323864    0.0       0.059   \n",
       "\n",
       "   bolus_volume_delivered  carb_input Patient_ID          outlier_column  \\\n",
       "0                    -1.0         7.0  HUPA0017P  bolus_volume_delivered   \n",
       "1                    -1.0         4.0  HUPA0017P  bolus_volume_delivered   \n",
       "2                    -3.0         4.0  HUPA0017P  bolus_volume_delivered   \n",
       "3                    -1.0         2.5  HUPA0017P  bolus_volume_delivered   \n",
       "\n",
       "  expected_range  row_index  \n",
       "0           0-25      46643  \n",
       "1           0-25      47213  \n",
       "2           0-25      48920  \n",
       "3           0-25      49214  "
      ]
     },
     "metadata": {},
     "output_type": "display_data"
    }
   ],
   "source": [
    "outlier_rows = []\n",
    "\n",
    "for col, (low, high) in clip_ranges.items():\n",
    "    if col in df_copy.columns:\n",
    "        mask = (df_copy[col] < low) | (df_copy[col] > high)\n",
    "        # Pull the *entire row* from the dataframe\n",
    "        outliers = df_copy.loc[mask].copy()\n",
    "        \n",
    "        # Add info about which column triggered the outlier\n",
    "        outliers[\"outlier_column\"] = col\n",
    "        outliers[\"expected_range\"] = f\"{low}-{high}\"\n",
    "        outliers[\"row_index\"] = outliers.index\n",
    "        \n",
    "        outlier_rows.append(outliers)\n",
    "\n",
    "# Combine all into one dataframe\n",
    "all_outliers = pd.concat(outlier_rows, ignore_index=True)\n",
    "\n",
    "display(all_outliers)"
   ]
  },
  {
   "cell_type": "markdown",
   "id": "31808a66-e792-4774-9cd4-d734c34f41a1",
   "metadata": {},
   "source": [
    "## <div style=\"color:darkred; font-family:'Arial',sans-seriff;font-size:26px;\"><b>2.2. Capping Outliers with Defined Clinical Ranges</b></div>"
   ]
  },
  {
   "cell_type": "markdown",
   "id": "763d6dfa-c6f0-476a-a88c-c04e9e803bee",
   "metadata": {},
   "source": [
    "<div style=\"color:black; font-size:18px; margin-bottom:0px;\">\n",
    "<h1 style=\"font-size:24px; font-weight:bold; margin:0 0 10px 0;\">Reasoning: </h1>To ensures that extreme impossible values in bolus_volume_delivered metrics are adjusted rather than removed.<br>By using the clip function, all values are capped within clinically valid ranges.<br>This prevents the loss of rows that would occur if we removed data, while still keeping the dataset realistic and consistent.<br>It also provides a quick summary of how many values were corrected in each column, which is useful for data quality reporting.<br> This approach balances data integrity (no missing rows) with clinical validity (no unrealistic numbers), making the dataset more reliable for analysis and future modeling.</div>"
   ]
  },
  {
   "cell_type": "code",
   "execution_count": 338,
   "id": "a4d1d128-23d6-45cd-94a3-86f0faba235b",
   "metadata": {},
   "outputs": [
    {
     "name": "stdout",
     "output_type": "stream",
     "text": [
      "glucose: capped 0 values outside [40, 450]\n",
      "heart_rate: capped 0 values outside [30, 200]\n",
      "steps: capped 0 values outside [0, 1000]\n",
      "calories: capped 0 values outside [0, 1000]\n",
      "basal_rate: capped 0 values outside [0, 20]\n",
      "bolus_volume_delivered: capped 4 values outside [0, 25]\n",
      "carb_input: capped 0 values outside [0, 300]\n"
     ]
    }
   ],
   "source": [
    "for col, (low, high) in clip_ranges.items():\n",
    "    if col in df_copy.columns:\n",
    "        before = df_copy[col].copy()\n",
    "\n",
    "        # Cap both lower and upper bounds\n",
    "        df_copy[col] = df_copy[col].clip(lower=low, upper=high)\n",
    "\n",
    "        # Count how many values were clipped\n",
    "        clipped = (before != df_copy[col]).sum()\n",
    "\n",
    "        print(f\"{col}: capped {clipped} values outside [{low}, {high}]\")\n"
   ]
  },
  {
   "cell_type": "markdown",
   "id": "2c3a15db-7fbc-4535-b43b-f3f0c44f9256",
   "metadata": {},
   "source": [
    "## <div style=\"color:darkred; font-family:'Arial',sans-seriff;font-size:26px;\"><b>3. Convert time to proper datetime format:</div>\n"
   ]
  },
  {
   "cell_type": "markdown",
   "id": "7fd87662-f8fb-4a0d-8d97-147ec99444bd",
   "metadata": {},
   "source": [
    "<div style=\"color:black; font-size:18px; margin-bottom:0px;\">\n",
    "<h1 style=\"font-size:24px; font-weight:bold; margin:0 0 10px 0;\">Reasoning: </h1>A copy of the merged dataset is created to preserve the original.<br>\n",
    "The time column is converted to datetime format using pd.to_datetime().<br>\n",
    "This allows us to easily extract parts of the timestamp, like the date or hour, for analysis.\n",
    "</div>"
   ]
  },
  {
   "cell_type": "code",
   "execution_count": 343,
   "id": "ef0ec9d3-2158-4ff4-ade3-c16d0da568a0",
   "metadata": {},
   "outputs": [
    {
     "name": "stdout",
     "output_type": "stream",
     "text": [
      "<class 'pandas.core.frame.DataFrame'>\n",
      "RangeIndex: 309392 entries, 0 to 309391\n",
      "Data columns (total 9 columns):\n",
      " #   Column                  Non-Null Count   Dtype         \n",
      "---  ------                  --------------   -----         \n",
      " 0   time                    309392 non-null  datetime64[ns]\n",
      " 1   glucose                 309392 non-null  float64       \n",
      " 2   calories                309392 non-null  float64       \n",
      " 3   heart_rate              309392 non-null  float64       \n",
      " 4   steps                   309392 non-null  float64       \n",
      " 5   basal_rate              309392 non-null  float64       \n",
      " 6   bolus_volume_delivered  309392 non-null  float64       \n",
      " 7   carb_input              309392 non-null  float64       \n",
      " 8   Patient_ID              309392 non-null  object        \n",
      "dtypes: datetime64[ns](1), float64(7), object(1)\n",
      "memory usage: 21.2+ MB\n",
      "None\n"
     ]
    }
   ],
   "source": [
    "df_copy['time'] = pd.to_datetime(df_copy['time'])\n",
    "#print(df_copy)\n",
    "print(df_copy.info())"
   ]
  },
  {
   "cell_type": "code",
   "execution_count": 301,
   "id": "fc97a31b-bdaa-46c6-b83f-4be67fca782d",
   "metadata": {},
   "outputs": [
    {
     "data": {
      "text/html": [
       "<div>\n",
       "<style scoped>\n",
       "    .dataframe tbody tr th:only-of-type {\n",
       "        vertical-align: middle;\n",
       "    }\n",
       "\n",
       "    .dataframe tbody tr th {\n",
       "        vertical-align: top;\n",
       "    }\n",
       "\n",
       "    .dataframe thead th {\n",
       "        text-align: right;\n",
       "    }\n",
       "</style>\n",
       "<table border=\"1\" class=\"dataframe\">\n",
       "  <thead>\n",
       "    <tr style=\"text-align: right;\">\n",
       "      <th></th>\n",
       "      <th>time</th>\n",
       "      <th>glucose</th>\n",
       "      <th>calories</th>\n",
       "      <th>heart_rate</th>\n",
       "      <th>steps</th>\n",
       "      <th>basal_rate</th>\n",
       "      <th>bolus_volume_delivered</th>\n",
       "      <th>carb_input</th>\n",
       "      <th>Patient_ID</th>\n",
       "      <th>date</th>\n",
       "    </tr>\n",
       "  </thead>\n",
       "  <tbody>\n",
       "    <tr>\n",
       "      <th>0</th>\n",
       "      <td>2018-06-13 18:40:00</td>\n",
       "      <td>332.000000</td>\n",
       "      <td>6.35950</td>\n",
       "      <td>82.322835</td>\n",
       "      <td>34.0</td>\n",
       "      <td>0.091667</td>\n",
       "      <td>0.0</td>\n",
       "      <td>0.0</td>\n",
       "      <td>HUPA0001P</td>\n",
       "      <td>2018-06-13</td>\n",
       "    </tr>\n",
       "    <tr>\n",
       "      <th>1</th>\n",
       "      <td>2018-06-13 18:45:00</td>\n",
       "      <td>326.000000</td>\n",
       "      <td>7.72800</td>\n",
       "      <td>83.740157</td>\n",
       "      <td>0.0</td>\n",
       "      <td>0.091667</td>\n",
       "      <td>0.0</td>\n",
       "      <td>0.0</td>\n",
       "      <td>HUPA0001P</td>\n",
       "      <td>2018-06-13</td>\n",
       "    </tr>\n",
       "    <tr>\n",
       "      <th>2</th>\n",
       "      <td>2018-06-13 18:50:00</td>\n",
       "      <td>330.000000</td>\n",
       "      <td>4.74950</td>\n",
       "      <td>80.525180</td>\n",
       "      <td>0.0</td>\n",
       "      <td>0.091667</td>\n",
       "      <td>0.0</td>\n",
       "      <td>0.0</td>\n",
       "      <td>HUPA0001P</td>\n",
       "      <td>2018-06-13</td>\n",
       "    </tr>\n",
       "    <tr>\n",
       "      <th>3</th>\n",
       "      <td>2018-06-13 18:55:00</td>\n",
       "      <td>324.000000</td>\n",
       "      <td>6.35950</td>\n",
       "      <td>89.129032</td>\n",
       "      <td>20.0</td>\n",
       "      <td>0.091667</td>\n",
       "      <td>0.0</td>\n",
       "      <td>0.0</td>\n",
       "      <td>HUPA0001P</td>\n",
       "      <td>2018-06-13</td>\n",
       "    </tr>\n",
       "    <tr>\n",
       "      <th>4</th>\n",
       "      <td>2018-06-13 19:00:00</td>\n",
       "      <td>306.000000</td>\n",
       "      <td>5.15200</td>\n",
       "      <td>92.495652</td>\n",
       "      <td>0.0</td>\n",
       "      <td>0.075000</td>\n",
       "      <td>0.0</td>\n",
       "      <td>0.0</td>\n",
       "      <td>HUPA0001P</td>\n",
       "      <td>2018-06-13</td>\n",
       "    </tr>\n",
       "    <tr>\n",
       "      <th>...</th>\n",
       "      <td>...</td>\n",
       "      <td>...</td>\n",
       "      <td>...</td>\n",
       "      <td>...</td>\n",
       "      <td>...</td>\n",
       "      <td>...</td>\n",
       "      <td>...</td>\n",
       "      <td>...</td>\n",
       "      <td>...</td>\n",
       "      <td>...</td>\n",
       "    </tr>\n",
       "    <tr>\n",
       "      <th>309387</th>\n",
       "      <td>2022-05-18 11:55:00</td>\n",
       "      <td>109.333333</td>\n",
       "      <td>10.79280</td>\n",
       "      <td>104.171171</td>\n",
       "      <td>0.0</td>\n",
       "      <td>0.000000</td>\n",
       "      <td>0.0</td>\n",
       "      <td>0.0</td>\n",
       "      <td>HUPA0028P</td>\n",
       "      <td>2022-05-18</td>\n",
       "    </tr>\n",
       "    <tr>\n",
       "      <th>309388</th>\n",
       "      <td>2022-05-18 12:00:00</td>\n",
       "      <td>114.000000</td>\n",
       "      <td>9.80346</td>\n",
       "      <td>103.442623</td>\n",
       "      <td>0.0</td>\n",
       "      <td>0.000000</td>\n",
       "      <td>0.0</td>\n",
       "      <td>0.0</td>\n",
       "      <td>HUPA0028P</td>\n",
       "      <td>2022-05-18</td>\n",
       "    </tr>\n",
       "    <tr>\n",
       "      <th>309389</th>\n",
       "      <td>2022-05-18 12:05:00</td>\n",
       "      <td>118.666667</td>\n",
       "      <td>5.66622</td>\n",
       "      <td>95.542857</td>\n",
       "      <td>0.0</td>\n",
       "      <td>0.000000</td>\n",
       "      <td>0.0</td>\n",
       "      <td>0.0</td>\n",
       "      <td>HUPA0028P</td>\n",
       "      <td>2022-05-18</td>\n",
       "    </tr>\n",
       "    <tr>\n",
       "      <th>309390</th>\n",
       "      <td>2022-05-18 12:10:00</td>\n",
       "      <td>123.333333</td>\n",
       "      <td>5.57628</td>\n",
       "      <td>91.381356</td>\n",
       "      <td>0.0</td>\n",
       "      <td>0.000000</td>\n",
       "      <td>0.0</td>\n",
       "      <td>0.0</td>\n",
       "      <td>HUPA0028P</td>\n",
       "      <td>2022-05-18</td>\n",
       "    </tr>\n",
       "    <tr>\n",
       "      <th>309391</th>\n",
       "      <td>2022-05-18 12:15:00</td>\n",
       "      <td>128.000000</td>\n",
       "      <td>5.57628</td>\n",
       "      <td>99.257812</td>\n",
       "      <td>0.0</td>\n",
       "      <td>0.000000</td>\n",
       "      <td>0.0</td>\n",
       "      <td>0.0</td>\n",
       "      <td>HUPA0028P</td>\n",
       "      <td>2022-05-18</td>\n",
       "    </tr>\n",
       "  </tbody>\n",
       "</table>\n",
       "<p>309392 rows × 10 columns</p>\n",
       "</div>"
      ],
      "text/plain": [
       "                      time     glucose  calories  heart_rate  steps  \\\n",
       "0      2018-06-13 18:40:00  332.000000   6.35950   82.322835   34.0   \n",
       "1      2018-06-13 18:45:00  326.000000   7.72800   83.740157    0.0   \n",
       "2      2018-06-13 18:50:00  330.000000   4.74950   80.525180    0.0   \n",
       "3      2018-06-13 18:55:00  324.000000   6.35950   89.129032   20.0   \n",
       "4      2018-06-13 19:00:00  306.000000   5.15200   92.495652    0.0   \n",
       "...                    ...         ...       ...         ...    ...   \n",
       "309387 2022-05-18 11:55:00  109.333333  10.79280  104.171171    0.0   \n",
       "309388 2022-05-18 12:00:00  114.000000   9.80346  103.442623    0.0   \n",
       "309389 2022-05-18 12:05:00  118.666667   5.66622   95.542857    0.0   \n",
       "309390 2022-05-18 12:10:00  123.333333   5.57628   91.381356    0.0   \n",
       "309391 2022-05-18 12:15:00  128.000000   5.57628   99.257812    0.0   \n",
       "\n",
       "        basal_rate  bolus_volume_delivered  carb_input Patient_ID        date  \n",
       "0         0.091667                     0.0         0.0  HUPA0001P  2018-06-13  \n",
       "1         0.091667                     0.0         0.0  HUPA0001P  2018-06-13  \n",
       "2         0.091667                     0.0         0.0  HUPA0001P  2018-06-13  \n",
       "3         0.091667                     0.0         0.0  HUPA0001P  2018-06-13  \n",
       "4         0.075000                     0.0         0.0  HUPA0001P  2018-06-13  \n",
       "...            ...                     ...         ...        ...         ...  \n",
       "309387    0.000000                     0.0         0.0  HUPA0028P  2022-05-18  \n",
       "309388    0.000000                     0.0         0.0  HUPA0028P  2022-05-18  \n",
       "309389    0.000000                     0.0         0.0  HUPA0028P  2022-05-18  \n",
       "309390    0.000000                     0.0         0.0  HUPA0028P  2022-05-18  \n",
       "309391    0.000000                     0.0         0.0  HUPA0028P  2022-05-18  \n",
       "\n",
       "[309392 rows x 10 columns]"
      ]
     },
     "execution_count": 301,
     "metadata": {},
     "output_type": "execute_result"
    }
   ],
   "source": [
    "df_copy"
   ]
  },
  {
   "cell_type": "markdown",
   "id": "9f797afe-95de-40b8-8459-28950397d488",
   "metadata": {},
   "source": [
    "## <div style=\"color:darkred; font-family:'Arial',sans-seriff;font-size:26px;\"><b>4. While reviewing the CGM dataset, we observed that although patients are expected to have at least 14 days of data, some patients had much longer monitoring periods, ranging from 90 days up to 2 years.</div>"
   ]
  },
  {
   "cell_type": "code",
   "execution_count": 345,
   "id": "f1e91fb1-262e-404e-9cfc-f3b887614a6c",
   "metadata": {},
   "outputs": [
    {
     "data": {
      "text/html": [
       "<div>\n",
       "<style scoped>\n",
       "    .dataframe tbody tr th:only-of-type {\n",
       "        vertical-align: middle;\n",
       "    }\n",
       "\n",
       "    .dataframe tbody tr th {\n",
       "        vertical-align: top;\n",
       "    }\n",
       "\n",
       "    .dataframe thead th {\n",
       "        text-align: right;\n",
       "    }\n",
       "</style>\n",
       "<table border=\"1\" class=\"dataframe\">\n",
       "  <thead>\n",
       "    <tr style=\"text-align: right;\">\n",
       "      <th></th>\n",
       "      <th>Patient_ID</th>\n",
       "      <th>n_days</th>\n",
       "      <th>first_date</th>\n",
       "      <th>last_date</th>\n",
       "      <th>more_than_14_days</th>\n",
       "    </tr>\n",
       "  </thead>\n",
       "  <tbody>\n",
       "    <tr>\n",
       "      <th>0</th>\n",
       "      <td>HUPA0001P</td>\n",
       "      <td>15</td>\n",
       "      <td>2018-06-13</td>\n",
       "      <td>2018-06-27</td>\n",
       "      <td>True</td>\n",
       "    </tr>\n",
       "    <tr>\n",
       "      <th>23</th>\n",
       "      <td>HUPA0027P</td>\n",
       "      <td>575</td>\n",
       "      <td>2020-06-26</td>\n",
       "      <td>2022-01-21</td>\n",
       "      <td>True</td>\n",
       "    </tr>\n",
       "    <tr>\n",
       "      <th>22</th>\n",
       "      <td>HUPA0026P</td>\n",
       "      <td>141</td>\n",
       "      <td>2020-05-23</td>\n",
       "      <td>2020-10-10</td>\n",
       "      <td>True</td>\n",
       "    </tr>\n",
       "    <tr>\n",
       "      <th>24</th>\n",
       "      <td>HUPA0028P</td>\n",
       "      <td>91</td>\n",
       "      <td>2022-02-17</td>\n",
       "      <td>2022-05-18</td>\n",
       "      <td>True</td>\n",
       "    </tr>\n",
       "    <tr>\n",
       "      <th>21</th>\n",
       "      <td>HUPA0025P</td>\n",
       "      <td>15</td>\n",
       "      <td>2020-01-16</td>\n",
       "      <td>2020-01-30</td>\n",
       "      <td>True</td>\n",
       "    </tr>\n",
       "  </tbody>\n",
       "</table>\n",
       "</div>"
      ],
      "text/plain": [
       "   Patient_ID  n_days  first_date   last_date  more_than_14_days\n",
       "0   HUPA0001P      15  2018-06-13  2018-06-27               True\n",
       "23  HUPA0027P     575  2020-06-26  2022-01-21               True\n",
       "22  HUPA0026P     141  2020-05-23  2020-10-10               True\n",
       "24  HUPA0028P      91  2022-02-17  2022-05-18               True\n",
       "21  HUPA0025P      15  2020-01-16  2020-01-30               True"
      ]
     },
     "execution_count": 345,
     "metadata": {},
     "output_type": "execute_result"
    }
   ],
   "source": [
    "df_copy[\"date\"] = df_copy[\"time\"].dt.date\n",
    "patient_days = (df_copy.groupby(\"Patient_ID\") .agg( n_days=('date', 'nunique'),\n",
    "                                                     first_date=('date', 'min'),\n",
    "                                                     last_date=('date', 'max') ) .reset_index()) \n",
    "patient_days\n",
    "# Flag patients with >15 days\n",
    "patient_days[\"more_than_14_days\"] = patient_days[\"n_days\"] > 14\n",
    "\n",
    "# Sort so True comes first\n",
    "df_sorted = patient_days.sort_values(by=\"more_than_14_days\", ascending=False)\n",
    "\n",
    "# Optional: sort within patient by date\n",
    "df_sorted = df_sorted.sort_values(by=[\"more_than_14_days\"], ascending=False)\n",
    "\n",
    "df_sorted[df_sorted['more_than_14_days']]\n"
   ]
  },
  {
   "cell_type": "markdown",
   "id": "f127b974-ce6b-4129-8c40-7f22fe193cdd",
   "metadata": {},
   "source": [
    "## <div style=\"color:darkred; font-family:'Arial',sans-seriff;font-size:26px;\"><b>4.1. How did we handle these cases in our analysis?</div>"
   ]
  },
  {
   "cell_type": "markdown",
   "id": "b4ea1aeb-2af6-4f60-bbba-ad331c896331",
   "metadata": {},
   "source": [
    "<div style=\"color:black; font-size:18px; margin-bottom:0px;\">\n",
    "To ensure consistency across patients and avoid bias from those with unusually long follow-up periods, we limited the dataset to the first 15 days of data for each patient when visualizing correlations and plotting distributions.<br> This provides a fair comparison across the cohort. However, for aggregated analyses (such as computing summary statistics per patient), we retained the full monitoring period to capture all available information.</div>"
   ]
  },
  {
   "cell_type": "markdown",
   "id": "513f701e-ff88-4929-948e-fbc855945e7d",
   "metadata": {},
   "source": [
    "## <div style=\"color:darkred; font-family:'Arial',sans-seriff;font-size:26px;\"><b>5. It checks whether converting the **bolus_volume_delivered** column from higher precision (**float64**) to lower precision (**float32**) changes its values.</div>\n"
   ]
  },
  {
   "cell_type": "code",
   "execution_count": 347,
   "id": "628b4ff5-d50f-4859-ab17-7684f821b984",
   "metadata": {},
   "outputs": [
    {
     "data": {
      "text/plain": [
       "False"
      ]
     },
     "execution_count": 347,
     "metadata": {},
     "output_type": "execute_result"
    }
   ],
   "source": [
    "df_copy[\"bolus_volume_delivered\"].astype(\"float64\").equals(df[\"bolus_volume_delivered\"].astype(\"float32\"))"
   ]
  },
  {
   "cell_type": "markdown",
   "id": "ff869706-0d49-4e99-be28-0c89dd9187f2",
   "metadata": {},
   "source": [
    "## <div style=\"color:darkred; font-family:'Arial',sans-seriff;font-size:26px;\"><b>5.1.This code block evaluates the **impact of converting from float64 to float32** for all numeric columns.</div>\n"
   ]
  },
  {
   "cell_type": "markdown",
   "id": "3fc21993-3ebd-44b7-a575-b3b7534e542e",
   "metadata": {},
   "source": [
    "<div style=\"color:black; font-size:18px; margin-bottom:0px;\">\n",
    "<h1 style=\"font-size:24px; font-weight:bold; margin:0 0 10px 0;\">Reasoning: </h1> For each column, it calculates the **maximum difference** between the original values and the converted ones. <br>- If the difference is 0, no precision is lost, making float32 safe and memory-efficient.<br> - If the difference is very small, the loss is negligible and acceptable. - If the difference is large, float64 should be kept to preserve accuracy.<br>\n",
    "This ensures we balance storage optimization with data integrity before finalizing the dataset.</div>"
   ]
  },
  {
   "cell_type": "code",
   "execution_count": 350,
   "id": "d8cd04ab-7139-4a18-b27c-94b56a5e32cf",
   "metadata": {},
   "outputs": [
    {
     "name": "stdout",
     "output_type": "stream",
     "text": [
      "bolus_volume_delivered: max rounding difference = 0.0\n"
     ]
    }
   ],
   "source": [
    "float_cols = [\"bolus_volume_delivered\"]\n",
    "\n",
    "for col in float_cols:\n",
    "    orig = df[col].astype(\"float64\")\n",
    "    conv = df[col].astype(\"float32\")\n",
    "    max_diff = np.abs(orig - conv).max()\n",
    "    print(f\"{col}: max rounding difference = {max_diff}\")"
   ]
  },
  {
   "cell_type": "code",
   "execution_count": 352,
   "id": "ac7f8e16-1c2d-4521-baed-5e1fc3ec7ee0",
   "metadata": {},
   "outputs": [
    {
     "name": "stdout",
     "output_type": "stream",
     "text": [
      "<class 'pandas.core.frame.DataFrame'>\n",
      "RangeIndex: 309392 entries, 0 to 309391\n",
      "Data columns (total 10 columns):\n",
      " #   Column                  Non-Null Count   Dtype         \n",
      "---  ------                  --------------   -----         \n",
      " 0   time                    309392 non-null  datetime64[ns]\n",
      " 1   glucose                 309392 non-null  float64       \n",
      " 2   calories                309392 non-null  float64       \n",
      " 3   heart_rate              309392 non-null  float64       \n",
      " 4   steps                   309392 non-null  float64       \n",
      " 5   basal_rate              309392 non-null  float64       \n",
      " 6   bolus_volume_delivered  309392 non-null  float64       \n",
      " 7   carb_input              309392 non-null  float64       \n",
      " 8   Patient_ID              309392 non-null  object        \n",
      " 9   date                    309392 non-null  object        \n",
      "dtypes: datetime64[ns](1), float64(7), object(2)\n",
      "memory usage: 23.6+ MB\n"
     ]
    }
   ],
   "source": [
    "df_copy.info()"
   ]
  },
  {
   "cell_type": "markdown",
   "id": "80ae7665-791b-4a31-8d5d-4da76eab3132",
   "metadata": {},
   "source": [
    "## <div style=\"color:darkred; font-family:'Arial',sans-seriff;font-size:26px;\"><b>5.2. Converting float64 to float 32</b></div>"
   ]
  },
  {
   "cell_type": "code",
   "execution_count": 354,
   "id": "116b3686-1787-495e-8abe-6c27ceb72550",
   "metadata": {},
   "outputs": [],
   "source": [
    "df_copy = df_copy.astype({'bolus_volume_delivered':'Float32'})"
   ]
  },
  {
   "cell_type": "code",
   "execution_count": 356,
   "id": "54fa2b5a-7f58-4279-b3f4-3a7cdfffac43",
   "metadata": {},
   "outputs": [
    {
     "name": "stdout",
     "output_type": "stream",
     "text": [
      "<class 'pandas.core.frame.DataFrame'>\n",
      "RangeIndex: 309392 entries, 0 to 309391\n",
      "Data columns (total 10 columns):\n",
      " #   Column                  Non-Null Count   Dtype         \n",
      "---  ------                  --------------   -----         \n",
      " 0   time                    309392 non-null  datetime64[ns]\n",
      " 1   glucose                 309392 non-null  float64       \n",
      " 2   calories                309392 non-null  float64       \n",
      " 3   heart_rate              309392 non-null  float64       \n",
      " 4   steps                   309392 non-null  float64       \n",
      " 5   basal_rate              309392 non-null  float64       \n",
      " 6   bolus_volume_delivered  309392 non-null  Float32       \n",
      " 7   carb_input              309392 non-null  float64       \n",
      " 8   Patient_ID              309392 non-null  object        \n",
      " 9   date                    309392 non-null  object        \n",
      "dtypes: Float32(1), datetime64[ns](1), float64(6), object(2)\n",
      "memory usage: 22.7+ MB\n"
     ]
    }
   ],
   "source": [
    "df_copy.info()"
   ]
  },
  {
   "cell_type": "markdown",
   "id": "b24275ed-2da8-48d8-b110-8c0b6bd9e69e",
   "metadata": {},
   "source": [
    "## <div style=\"color:darkred; font-family:'Arial',sans-seriff;font-size:26px;\"><b> 6. Conversion of Patient_ID to string type: </div>"
   ]
  },
  {
   "cell_type": "markdown",
   "id": "e78b86ee-94fa-49ba-b1ef-4bfa3c073cde",
   "metadata": {},
   "source": [
    "<div style=\"color:black; font-size:18px; margin-bottom:0px;\">\n",
    "<h1 style=\"font-size:24px; font-weight:bold; margin:0 0 10px 0;\">Reasoning: </h1>The Patient_ID column is explicitly cast to a string data type using .astype('string'). <br> This ensures consistency in data type when performing operations such as grouping, filtering, or merging.<br>Treating Patient_ID as a string preserves its role as a unique identifier for each patient’s records throughout the analysis workflow.</div>"
   ]
  },
  {
   "cell_type": "code",
   "execution_count": 360,
   "id": "58db34e7-d78e-4c85-9a4c-38c362dbdf52",
   "metadata": {},
   "outputs": [
    {
     "name": "stdout",
     "output_type": "stream",
     "text": [
      "<class 'pandas.core.frame.DataFrame'>\n",
      "RangeIndex: 309392 entries, 0 to 309391\n",
      "Data columns (total 10 columns):\n",
      " #   Column                  Non-Null Count   Dtype         \n",
      "---  ------                  --------------   -----         \n",
      " 0   time                    309392 non-null  datetime64[ns]\n",
      " 1   glucose                 309392 non-null  float64       \n",
      " 2   calories                309392 non-null  float64       \n",
      " 3   heart_rate              309392 non-null  float64       \n",
      " 4   steps                   309392 non-null  float64       \n",
      " 5   basal_rate              309392 non-null  float64       \n",
      " 6   bolus_volume_delivered  309392 non-null  Float32       \n",
      " 7   carb_input              309392 non-null  float64       \n",
      " 8   Patient_ID              309392 non-null  string        \n",
      " 9   date                    309392 non-null  object        \n",
      "dtypes: Float32(1), datetime64[ns](1), float64(6), object(1), string(1)\n",
      "memory usage: 22.7+ MB\n",
      "None\n"
     ]
    }
   ],
   "source": [
    "df_copy['Patient_ID'] = df_copy['Patient_ID'].astype('string')\n",
    "print(df_copy.info())"
   ]
  },
  {
   "cell_type": "markdown",
   "id": "ad6afbbe-e23e-4897-a0c8-8a63d9247632",
   "metadata": {},
   "source": [
    "## <div style=\"color:darkred; font-family:'Arial',sans-seriff;font-size:26px;\"><b>7.Convert numeric columns to integer type</div>\n"
   ]
  },
  {
   "cell_type": "markdown",
   "id": "877fff45-11e5-4684-b74f-d04658a6cbe1",
   "metadata": {},
   "source": [
    "<div style=\"color:black; font-size:18px; margin-bottom:0px;\">\n",
    "<h1 style=\"font-size:24px; font-weight:bold; margin:0 0 10px 0;\">Reasoning: </h1>The columns glucose, steps, and heart_rate are explicitly converted to integers using .astype().\n",
    "<br>This ensures consistent numeric data types for calculations, aggregations, and statistical analysis,\n",
    "while also optimizing memory usage.</p>"
   ]
  },
  {
   "cell_type": "code",
   "execution_count": 364,
   "id": "1ffea870-1a07-47a4-a06c-658b2c44aa32",
   "metadata": {},
   "outputs": [
    {
     "name": "stdout",
     "output_type": "stream",
     "text": [
      "<class 'pandas.core.frame.DataFrame'>\n",
      "RangeIndex: 309392 entries, 0 to 309391\n",
      "Data columns (total 10 columns):\n",
      " #   Column                  Non-Null Count   Dtype         \n",
      "---  ------                  --------------   -----         \n",
      " 0   time                    309392 non-null  datetime64[ns]\n",
      " 1   glucose                 309392 non-null  int32         \n",
      " 2   calories                309392 non-null  float64       \n",
      " 3   heart_rate              309392 non-null  int32         \n",
      " 4   steps                   309392 non-null  int32         \n",
      " 5   basal_rate              309392 non-null  float64       \n",
      " 6   bolus_volume_delivered  309392 non-null  Float32       \n",
      " 7   carb_input              309392 non-null  int32         \n",
      " 8   Patient_ID              309392 non-null  string        \n",
      " 9   date                    309392 non-null  object        \n",
      "dtypes: Float32(1), datetime64[ns](1), float64(2), int32(4), object(1), string(1)\n",
      "memory usage: 18.0+ MB\n",
      "None\n"
     ]
    }
   ],
   "source": [
    "df_copy = df_copy.astype({'glucose': int, 'steps':int,'heart_rate': int,'carb_input':int})\n",
    "print(df_copy.info())"
   ]
  },
  {
   "cell_type": "markdown",
   "id": "22a69f0a-8e7d-4a1d-a2c9-83fecc607779",
   "metadata": {},
   "source": [
    "## <div style=\"color:darkred; font-family:'Arial',sans-seriff;font-size:26px;\"><b>8.Round float columns to two decimal places</div>"
   ]
  },
  {
   "cell_type": "markdown",
   "id": "030c3d61-e96a-4704-93b0-6b2ed69ef85a",
   "metadata": {},
   "source": [
    "<div style=\"color:black; font-size:18px; margin-bottom:0px;\">\n",
    "<h1 style=\"font-size:24px; font-weight:bold; margin:0 0 10px 0;\">Reasoning: </h1>\n",
    "The columns calories, basal_rate, bolus_volume_delivered, and carb_input are rounded to two decimal places using .round(). <br>\n",
    "This standardizes the numeric precision, making the data easier to read and interpret, while maintaining sufficient accuracy for analysis.</div>"
   ]
  },
  {
   "cell_type": "code",
   "execution_count": 367,
   "id": "46ec0d47-1e46-499e-b8d8-b08ec9e0dc55",
   "metadata": {},
   "outputs": [
    {
     "name": "stdout",
     "output_type": "stream",
     "text": [
      "<class 'pandas.core.frame.DataFrame'>\n",
      "RangeIndex: 309392 entries, 0 to 309391\n",
      "Data columns (total 10 columns):\n",
      " #   Column                  Non-Null Count   Dtype         \n",
      "---  ------                  --------------   -----         \n",
      " 0   time                    309392 non-null  datetime64[ns]\n",
      " 1   glucose                 309392 non-null  int32         \n",
      " 2   calories                309392 non-null  float64       \n",
      " 3   heart_rate              309392 non-null  int32         \n",
      " 4   steps                   309392 non-null  int32         \n",
      " 5   basal_rate              309392 non-null  float64       \n",
      " 6   bolus_volume_delivered  309392 non-null  Float32       \n",
      " 7   carb_input              309392 non-null  int32         \n",
      " 8   Patient_ID              309392 non-null  string        \n",
      " 9   date                    309392 non-null  object        \n",
      "dtypes: Float32(1), datetime64[ns](1), float64(2), int32(4), object(1), string(1)\n",
      "memory usage: 18.0+ MB\n",
      "None\n"
     ]
    }
   ],
   "source": [
    "df_copy = df_copy.round({'calories': 1, 'basal_rate': 3,'bolus_volume_delivered': 1,'carb_input': 2 })\n",
    "print(df_copy.info())"
   ]
  },
  {
   "cell_type": "markdown",
   "id": "ee69cbfa-fca3-46d1-a5af-05d8fe5b447f",
   "metadata": {},
   "source": [
    "## <div style=\"color:darkred; font-family:'Arial',sans-seriff;font-size:26px;\"><b>9.Checking for null (missing) values:</div>"
   ]
  },
  {
   "cell_type": "markdown",
   "id": "0820338b-1331-44a9-8ca8-3065571acfdc",
   "metadata": {},
   "source": [
    "<div style=\"color:black; font-size:18px; margin-bottom:0px;\">\n",
    "<h1 style=\"font-size:24px; font-weight:bold; margin:0 0 10px 0;\">Reasoning: </h1>It is an essential step in data cleaning because missing data can lead to errors, inaccurate calculations, or biased analysis.<br>Identifying null values allows you to decide how to handle these values.</div>"
   ]
  },
  {
   "cell_type": "code",
   "execution_count": 80,
   "id": "80bb48c4-52af-4158-bec2-2d5eb9893e8f",
   "metadata": {},
   "outputs": [
    {
     "data": {
      "text/plain": [
       "time                      0\n",
       "glucose                   0\n",
       "calories                  0\n",
       "heart_rate                0\n",
       "steps                     0\n",
       "basal_rate                0\n",
       "bolus_volume_delivered    0\n",
       "carb_input                0\n",
       "Patient_ID                0\n",
       "dtype: int64"
      ]
     },
     "execution_count": 80,
     "metadata": {},
     "output_type": "execute_result"
    }
   ],
   "source": [
    "df_copy.isnull().sum()\n"
   ]
  },
  {
   "cell_type": "markdown",
   "id": "98589428-95ec-4cf3-9542-a913ecfd306f",
   "metadata": {},
   "source": [
    "## <div style=\"color:darkred; font-family:'Arial',sans-seriff;font-size:26px;\"><b>10.Checking for the duplicate rows: </div>"
   ]
  },
  {
   "cell_type": "markdown",
   "id": "768385e0-5a6c-4612-b89b-c8958c702054",
   "metadata": {},
   "source": [
    "<div style=\"color:black; font-size:18px; margin-bottom:0px;\">\n",
    "<h1 style=\"font-size:24px; font-weight:bold; margin:0 0 10px 0;\">Reasoning: </h1>Duplicate rows can lead to biased results, incorrect statistics, and misleading insights.<br>Checking for duplicates ensures data integrity by identifying and removing repeated records, so the analysis reflects accurate and unique information for each observation or patient.</div>"
   ]
  },
  {
   "cell_type": "code",
   "execution_count": 372,
   "id": "9ba53995-bfb6-4b7a-a6cf-3079c6efad19",
   "metadata": {},
   "outputs": [
    {
     "name": "stdout",
     "output_type": "stream",
     "text": [
      "Number of duplicate rows: 0\n"
     ]
    }
   ],
   "source": [
    "# Returns True for rows that are duplicates\n",
    "duplicates = df_copy.duplicated()\n",
    "\n",
    "# Count total duplicates\n",
    "print(\"Number of duplicate rows:\", duplicates.sum())"
   ]
  },
  {
   "cell_type": "markdown",
   "id": "257332f9-90e0-478c-82d9-c1af1c8344bc",
   "metadata": {},
   "source": [
    "## <div style=\"color:darkred; font-family:'Arial',sans-seriff;font-size:26px;\"><b>11. Rename columns to include units</div>\n"
   ]
  },
  {
   "cell_type": "markdown",
   "id": "63f06da8-c4c7-4a01-81c7-79ca501b52df",
   "metadata": {},
   "source": [
    "<div style=\"color:black; font-size:18px; margin-bottom:0px;\">\n",
    "<h1 style=\"font-size:24px; font-weight:bold; margin:0 0 10px 0;\">Reasoning: </h1>The columns in the DataFrame are renamed to make them more readable and self-explanatory by including the measurement units.\n",
    "<br>For example, glucose becomes Glucose(mg/dL), heart_rate becomes Heart Rate(BPM), and carb_input becomes Carb Intake (grams). \n",
    "<br>This helps anyone using the dataset to immediately understand the scale and units of each variable, improving clarity for analysis, visualization, or reporting.</div>"
   ]
  },
  {
   "cell_type": "code",
   "execution_count": 375,
   "id": "b8d0caff-96ad-4605-abd9-d86c34490b11",
   "metadata": {},
   "outputs": [
    {
     "name": "stdout",
     "output_type": "stream",
     "text": [
      "                  DateTime  Glucose(mg/dL)  Calories  Heart Rate(BPM)  Steps  \\\n",
      "0      2018-06-13 18:40:00             332       6.4               82     34   \n",
      "1      2018-06-13 18:45:00             326       7.7               83      0   \n",
      "2      2018-06-13 18:50:00             330       4.7               80      0   \n",
      "3      2018-06-13 18:55:00             324       6.4               89     20   \n",
      "4      2018-06-13 19:00:00             306       5.2               92      0   \n",
      "...                    ...             ...       ...              ...    ...   \n",
      "309387 2022-05-18 11:55:00             109      10.8              104      0   \n",
      "309388 2022-05-18 12:00:00             114       9.8              103      0   \n",
      "309389 2022-05-18 12:05:00             118       5.7               95      0   \n",
      "309390 2022-05-18 12:10:00             123       5.6               91      0   \n",
      "309391 2022-05-18 12:15:00             128       5.6               99      0   \n",
      "\n",
      "        Basal Rate(units/hour)  Bolus Volume Delivered(units)  \\\n",
      "0                        0.092                            0.0   \n",
      "1                        0.092                            0.0   \n",
      "2                        0.092                            0.0   \n",
      "3                        0.092                            0.0   \n",
      "4                        0.075                            0.0   \n",
      "...                        ...                            ...   \n",
      "309387                   0.000                            0.0   \n",
      "309388                   0.000                            0.0   \n",
      "309389                   0.000                            0.0   \n",
      "309390                   0.000                            0.0   \n",
      "309391                   0.000                            0.0   \n",
      "\n",
      "        Carb Intake (grams) Patient_ID        date  \n",
      "0                         0  HUPA0001P  2018-06-13  \n",
      "1                         0  HUPA0001P  2018-06-13  \n",
      "2                         0  HUPA0001P  2018-06-13  \n",
      "3                         0  HUPA0001P  2018-06-13  \n",
      "4                         0  HUPA0001P  2018-06-13  \n",
      "...                     ...        ...         ...  \n",
      "309387                    0  HUPA0028P  2022-05-18  \n",
      "309388                    0  HUPA0028P  2022-05-18  \n",
      "309389                    0  HUPA0028P  2022-05-18  \n",
      "309390                    0  HUPA0028P  2022-05-18  \n",
      "309391                    0  HUPA0028P  2022-05-18  \n",
      "\n",
      "[309392 rows x 10 columns]\n"
     ]
    }
   ],
   "source": [
    "\n",
    "df_copy = df_copy.rename(columns={'time':'DateTime', 'glucose':'Glucose(mg/dL)','calories': 'Calories', 'heart_rate': 'Heart Rate(BPM)', 'steps':'Steps',\n",
    "                                  'basal_rate': 'Basal Rate(units/hour)','bolus_volume_delivered':'Bolus Volume Delivered(units)',\n",
    "                                  'carb_input' : 'Carb Intake (grams)'\n",
    "                       })\n",
    "print(df_copy)"
   ]
  },
  {
   "cell_type": "markdown",
   "id": "7a805625-ad49-456e-9386-adc6f9910c9f",
   "metadata": {},
   "source": [
    "## <div style=\"color:darkred; font-family:'Arial',sans-seriff;font-size:26px;\"><b>12. Save the cleaned dataset.</div>\n"
   ]
  },
  {
   "cell_type": "markdown",
   "id": "fd40317c-3f4f-482b-aea9-5d2262afa0e6",
   "metadata": {},
   "source": [
    "<div style=\"color:black; font-size:18px; margin-bottom:0px;\">\n",
    "<h1 style=\"font-size:24px; font-weight:bold; margin:0 0 10px 0;\">Reasoning: </h1>The cleaned and processed DataFrame is exported to a CSV file named HUPA-UC_megerd_cleaned.csv using .to_csv().\n",
    "<br>The 'index=False' parameter ensures that row numbers are not included in the saved file.\n",
    "<br>This creates a ready-to-use dataset for further analysis or modeling.</b></p>"
   ]
  },
  {
   "cell_type": "code",
   "execution_count": 379,
   "id": "41cdf1c3-013c-4c65-a8b4-222d2db65b02",
   "metadata": {},
   "outputs": [
    {
     "name": "stdout",
     "output_type": "stream",
     "text": [
      "<class 'pandas.core.frame.DataFrame'>\n",
      "RangeIndex: 309392 entries, 0 to 309391\n",
      "Data columns (total 10 columns):\n",
      " #   Column                         Non-Null Count   Dtype         \n",
      "---  ------                         --------------   -----         \n",
      " 0   DateTime                       309392 non-null  datetime64[ns]\n",
      " 1   Glucose(mg/dL)                 309392 non-null  int32         \n",
      " 2   Calories                       309392 non-null  float64       \n",
      " 3   Heart Rate(BPM)                309392 non-null  int32         \n",
      " 4   Steps                          309392 non-null  int32         \n",
      " 5   Basal Rate(units/hour)         309392 non-null  float64       \n",
      " 6   Bolus Volume Delivered(units)  309392 non-null  Float32       \n",
      " 7   Carb Intake (grams)            309392 non-null  int32         \n",
      " 8   Patient_ID                     309392 non-null  string        \n",
      " 9   date                           309392 non-null  object        \n",
      "dtypes: Float32(1), datetime64[ns](1), float64(2), int32(4), object(1), string(1)\n",
      "memory usage: 18.0+ MB\n",
      "None\n"
     ]
    }
   ],
   "source": [
    "df_copy.to_csv(\"patients_cleaned_file.csv\",index=False) \n",
    "print(df_copy.info())"
   ]
  },
  {
   "cell_type": "markdown",
   "id": "f6c3c5c9-1880-42d9-b228-cc172bb71789",
   "metadata": {},
   "source": [
    "## <div style=\"color:darkred; font-family:'Arial',sans-seriff;font-size:26px;\"><b> 13. Reading Demographics csv file.</div>\n"
   ]
  },
  {
   "cell_type": "markdown",
   "id": "42c1a15e-3a56-493f-82d2-03f41a0b62a2",
   "metadata": {},
   "source": [
    "<div style=\"color:black; font-size:18px; margin-bottom:0px;\">\n",
    "<h1 style=\"font-size:24px; font-weight:bold; margin:0 0 10px 0;\">Reasoning: </h1>Conversion of Patient_ID, Gender, Race to string type: \n",
    "<br>The Patient_ID, Gender, Race column is explicitly covert in to a string data type. \n",
    "<br>This ensures consistency in data type when performing operations such as grouping, filtering, or merging.\n",
    "<br>Treating Patient_ID as a string preserves its role as a unique identifier for each patient’s records throughout the analysis workflow.</div>"
   ]
  },
  {
   "cell_type": "code",
   "execution_count": 382,
   "id": "38ba151a-0057-4319-98b6-63c8d41d90c6",
   "metadata": {},
   "outputs": [
    {
     "name": "stdout",
     "output_type": "stream",
     "text": [
      "<class 'pandas.core.frame.DataFrame'>\n",
      "RangeIndex: 25 entries, 0 to 24\n",
      "Data columns (total 7 columns):\n",
      " #   Column                        Non-Null Count  Dtype  \n",
      "---  ------                        --------------  -----  \n",
      " 0   Patient_ID                    25 non-null     string \n",
      " 1   Age                           25 non-null     int64  \n",
      " 2   Gender                        25 non-null     string \n",
      " 3   Race                          25 non-null     string \n",
      " 4   Average Sleep Duration (hrs)  25 non-null     float64\n",
      " 5   Sleep Quality (1-10)          25 non-null     float64\n",
      " 6   % with Sleep Disturbances     25 non-null     int64  \n",
      "dtypes: float64(2), int64(2), string(3)\n",
      "memory usage: 1.5 KB\n",
      "None\n"
     ]
    }
   ],
   "source": [
    "df_demographics = pd.read_csv(\"DataSet/T1DM_patient_sleep_demographics_with_race.csv\")\n",
    "df_demographics = df_demographics.astype({'Patient_ID': 'string', 'Gender': 'string','Race': 'string'})\n",
    "print(df_demographics.info())\n"
   ]
  },
  {
   "cell_type": "markdown",
   "id": "70438c5f-cf55-4861-94e2-376af71fe0be",
   "metadata": {},
   "source": [
    "## <div style=\"color:darkred; font-family:'Arial',sans-seriff;font-size:26px;\"><b>14. Save the demographics Dataset.</div>\n"
   ]
  },
  {
   "cell_type": "markdown",
   "id": "b5cbd0e7-ebbe-4657-9352-4f95ee1d1636",
   "metadata": {},
   "source": [
    "<div style=\"color:black; font-size:18px; margin-bottom:0px;\">\n",
    "<h1 style=\"font-size:24px; font-weight:bold; margin:0 0 10px 0;\">Reasoning: </h1>The cleaned and processed DataFrame is exported to a CSV file named Demographics_cleaned.csv using .to_csv().\n",
    "<br>The 'index=False' parameter ensures that row numbers are not included in the saved file.\n",
    "<br>This creates a ready-to-use dataset for further analysis or modeling.</b></p>"
   ]
  },
  {
   "cell_type": "code",
   "execution_count": 384,
   "id": "3bf39661-3da1-4e93-b0e3-ae1c2f43b5db",
   "metadata": {},
   "outputs": [
    {
     "name": "stdout",
     "output_type": "stream",
     "text": [
      "   Patient_ID  Age  Gender             Race  Average Sleep Duration (hrs)  \\\n",
      "0   HUPA0001P   34    Male            Other                           6.3   \n",
      "1   HUPA0002P   49    Male         Hispanic                           6.6   \n",
      "2   HUPA0003P   64    Male            Black                           5.3   \n",
      "3   HUPA0004P   34  Female  Native American                           5.2   \n",
      "4   HUPA0005P   49    Male  Native American                           5.8   \n",
      "5   HUPA0006P   35    Male            White                           6.6   \n",
      "6   HUPA0007P   67    Male  Native American                           7.1   \n",
      "7   HUPA0009P   65  Female            Other                           6.6   \n",
      "8   HUPA0010P   22    Male            Asian                           7.1   \n",
      "9   HUPA0011P   63  Female            Other                           5.6   \n",
      "10  HUPA0014P   56    Male            White                           6.4   \n",
      "11  HUPA0015P   33  Female            Other                           6.2   \n",
      "12  HUPA0016P   46    Male            Black                           5.0   \n",
      "13  HUPA0017P   64  Female         Hispanic                           5.8   \n",
      "14  HUPA0018P   20  Female  Native American                           5.9   \n",
      "15  HUPA0019P   46    Male            Black                           5.3   \n",
      "16  HUPA0020P   29    Male            White                           5.4   \n",
      "17  HUPA0021P   30  Female            Black                           5.7   \n",
      "18  HUPA0022P   35    Male            Other                           7.2   \n",
      "19  HUPA0023P   74  Female            Black                           5.1   \n",
      "20  HUPA0024P   53    Male            Asian                           5.9   \n",
      "21  HUPA0025P   44    Male  Native American                           6.6   \n",
      "22  HUPA0026P   33    Male         Hispanic                           6.0   \n",
      "23  HUPA0027P   60  Female            Black                           5.5   \n",
      "24  HUPA0028P   62    Male            Black                           5.1   \n",
      "\n",
      "    Sleep Quality (1-10)  % with Sleep Disturbances  \n",
      "0                    4.5                         80  \n",
      "1                    4.4                         40  \n",
      "2                    5.2                         70  \n",
      "3                    6.9                         60  \n",
      "4                    7.9                         30  \n",
      "5                    4.2                         60  \n",
      "6                    6.0                         80  \n",
      "7                    4.6                         40  \n",
      "8                    5.5                         50  \n",
      "9                    4.7                         60  \n",
      "10                   4.6                         30  \n",
      "11                   6.5                         50  \n",
      "12                   4.6                         40  \n",
      "13                   7.3                         50  \n",
      "14                   7.1                         80  \n",
      "15                   7.1                         30  \n",
      "16                   7.9                         70  \n",
      "17                   5.4                         70  \n",
      "18                   7.5                         30  \n",
      "19                   6.8                         40  \n",
      "20                   7.5                         80  \n",
      "21                   4.1                         40  \n",
      "22                   4.7                         50  \n",
      "23                   5.9                         60  \n",
      "24                   7.9                         30  \n"
     ]
    }
   ],
   "source": [
    "df_demographics.to_csv(\"demographics_cleaned.csv\",index=False) \n",
    "print(df_demographics)"
   ]
  }
 ],
 "metadata": {
  "kernelspec": {
   "display_name": "Python [conda env:base] *",
   "language": "python",
   "name": "conda-base-py"
  },
  "language_info": {
   "codemirror_mode": {
    "name": "ipython",
    "version": 3
   },
   "file_extension": ".py",
   "mimetype": "text/x-python",
   "name": "python",
   "nbconvert_exporter": "python",
   "pygments_lexer": "ipython3",
   "version": "3.13.5"
  }
 },
 "nbformat": 4,
 "nbformat_minor": 5
}
